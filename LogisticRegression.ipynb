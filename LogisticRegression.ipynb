{
 "cells": [
  {
   "cell_type": "markdown",
   "metadata": {},
   "source": [
    "# Logistic Regression with Synthetic Data\n",
    "\n",
    "For more explanation of logistic regression, see\n",
    "1. [Our course notes](https://jennselby.github.io/MachineLearningCourseNotes/#binomial-logistic-regression)\n",
    "1. [This scikit-learn explanation](http://scikit-learn.org/stable/modules/linear_model.html#logistic-regression)\n",
    "1. [The full scikit-learn documentation of the LogisticRegression model class](http://scikit-learn.org/stable/modules/generated/sklearn.linear_model.LogisticRegression.html)"
   ]
  },
  {
   "cell_type": "code",
   "execution_count": 17,
   "metadata": {},
   "outputs": [],
   "source": [
    "import numpy.random # for generating our dataset\n",
    "import math\n",
    "from sklearn import linear_model # for fitting our model\n",
    "\n",
    "# force numpy not to use scientific notation, to make it easier to read the numbers the program prints out\n",
    "numpy.set_printoptions(suppress=True)\n",
    "\n",
    "# to display graphs in this notebook\n",
    "%matplotlib inline\n",
    "import matplotlib.pyplot"
   ]
  },
  {
   "cell_type": "markdown",
   "metadata": {},
   "source": [
    "## Data Generation\n",
    "\n",
    "As we did in the [linear regression notebook](https://nbviewer.jupyter.org/github/jennselby/MachineLearningCourseNotes/blob/master/assets/ipynb/LinearRegression.ipynb), we will be generating some fake data.\n",
    "\n",
    "In this fake dataset, we have two types of plants.\n",
    "* Plant A tends to be taller (average 60cm) and thinner (average 8cm).\n",
    "* Plant B tends to be shorter (average 58cm) and wider (average 10cm).\n",
    "* The heights and diameters of both plants are normally distributed (they follow a bell curve).\n",
    "\n",
    "* Class 0 will represent Plant A and Class 1 will represent Plant B"
   ]
  },
  {
   "cell_type": "code",
   "execution_count": 94,
   "metadata": {},
   "outputs": [
    {
     "name": "stdout",
     "output_type": "stream",
     "text": [
      "[0, 0, 0, 0, 0, 0, 0, 0, 0, 0, 0, 0, 0, 0, 0, 0, 0, 0, 0, 0, 0, 0, 0, 0, 0, 0, 0, 0, 0, 0, 0, 0, 0, 0, 0, 0, 0, 0, 0, 0, 0, 0, 0, 0, 0, 0, 0, 0, 0, 0, 1, 1, 1, 1, 1, 1, 1, 1, 1, 1, 1, 1, 1, 1, 1, 1, 1, 1, 1, 1, 1, 1, 1, 1, 1, 1, 1, 1, 1, 1, 1, 1, 1, 1, 1, 1, 1, 1, 1, 1, 1, 1, 1, 1, 1, 1, 1, 1, 1, 1]\n"
     ]
    }
   ],
   "source": [
    "NUM_INPUTS = 50 # inputs per class\n",
    "PLANT_A_AVG_HEIGHT = 70.0\n",
    "PLANT_A_AVG_WIDTH = 8.0\n",
    "PLANT_B_AVG_HEIGHT = 58.0\n",
    "PLANT_B_AVG_WIDTH = 10.0\n",
    "\n",
    "# Pick numbers randomly with a normal distribution centered around the averages\n",
    "\n",
    "plant_a_heights = numpy.random.normal(loc=PLANT_A_AVG_HEIGHT, size=NUM_INPUTS)\n",
    "plant_a_widths = numpy.random.normal(loc=PLANT_A_AVG_WIDTH, size=NUM_INPUTS)\n",
    "\n",
    "plant_b_heights = numpy.random.normal(loc=PLANT_B_AVG_HEIGHT, size=NUM_INPUTS)\n",
    "plant_b_widths = numpy.random.normal(loc=PLANT_B_AVG_WIDTH, size=NUM_INPUTS)\n",
    "\n",
    "# this creates a 2-dimensional matrix, with heights in the first column and widths in the second\n",
    "# the first half of rows are all plants of type a and the second half are type b\n",
    "plant_inputs = list(zip(numpy.append(plant_a_heights, plant_b_heights),\n",
    "                        numpy.append(plant_a_widths, plant_b_widths)))\n",
    "\n",
    "# this is a list where the first half are 0s (representing plants of type a) and the second half are 1s (type b)\n",
    "classes = [0]*NUM_INPUTS + [1]*NUM_INPUTS\n"
   ]
  },
  {
   "cell_type": "markdown",
   "metadata": {},
   "source": [
    "## Plotting\n",
    "\n",
    "Let's visualize our dataset, so that we can better understand what it looks like."
   ]
  },
  {
   "cell_type": "code",
   "execution_count": 12,
   "metadata": {},
   "outputs": [
    {
     "data": {
      "image/png": "[encoded data removed]",
      "text/plain": [
       "<Figure size 432x288 with 1 Axes>"
      ]
     },
     "metadata": {
      "needs_background": "light"
     },
     "output_type": "display_data"
    }
   ],
   "source": [
    "# create a figure and label it\n",
    "fig = matplotlib.pyplot.figure()\n",
    "fig.suptitle('Plant Data Set')\n",
    "matplotlib.pyplot.xlabel('Height')\n",
    "matplotlib.pyplot.ylabel('Width')\n",
    "\n",
    "# put the generated points on the graph\n",
    "a_scatter = matplotlib.pyplot.scatter(plant_a_heights, plant_a_widths, c=\"red\", marker=\"o\", label='plant a')\n",
    "b_scatter = matplotlib.pyplot.scatter(plant_b_heights, plant_b_widths, c=\"blue\", marker=\"^\", label='plant b')\n",
    "\n",
    "# add a legend to explain which points are which\n",
    "matplotlib.pyplot.legend(handles=[a_scatter, b_scatter])\n",
    "\n",
    "# show the graph\n",
    "matplotlib.pyplot.show()"
   ]
  },
  {
   "cell_type": "markdown",
   "metadata": {},
   "source": [
    "## Model Training\n",
    "\n",
    "Next, we want to fit our logistic regression model to our dataset."
   ]
  },
  {
   "cell_type": "code",
   "execution_count": 80,
   "metadata": {},
   "outputs": [
    {
     "name": "stdout",
     "output_type": "stream",
     "text": [
      "[(69.83306712389773, 9.768535189283249), (71.96753543191161, 8.881715507282392), (69.19938981290863, 7.002704296490986), (70.14911696638445, 9.933178869329314), (70.13989745743498, 10.143361640452225), (70.59719150439606, 9.595052894811642), (70.39659677357315, 6.671640139318971), (71.38518726492369, 7.31712765606842), (69.44159395998562, 10.32153214598432), (70.51032162658713, 8.574128575786636), (71.46508342944699, 7.764980673251516), (69.56229095873717, 8.496576717645741), (69.99808363213168, 8.828977016513404), (69.328896310628, 7.653155377708035), (70.53680820259753, 7.778006593772981), (70.85841647355124, 8.954599410143896), (69.89530324762049, 8.380803307862319), (69.8640888155109, 6.690468797387773), (69.3971439505749, 7.857760218625558), (71.3916253753151, 8.750334754159523), (69.14459435577898, 7.745640478436013), (71.22781177514611, 7.904509152653887), (68.85676913416486, 8.803396785740613), (71.57791375996499, 8.427544695325032), (69.24553197431115, 8.050457315330547), (69.3534907466395, 8.644949366465706), (68.74838341279909, 7.072749391539483), (69.93953413276559, 9.06971798851866), (69.87331257239305, 9.56397957761979), (68.92438782703505, 8.705184783715064), (69.67456204738099, 8.017997618114379), (71.0242774779161, 5.922712333588267), (70.03220397053008, 8.326851937728613), (71.65327757259371, 9.71398755431534), (69.9713569809448, 7.674111635416037), (68.2584663669819, 8.423606760816261), (69.461387289612, 8.310696482075018), (71.10253813009345, 6.77840815473275), (68.66462022602032, 8.149404997656218), (70.2449899208856, 5.728515251298138), (70.53546870612658, 7.953708506869685), (70.16486128180989, 8.322911383201175), (70.30985137167036, 8.267147733365759), (70.50582224277039, 9.020408210520213), (68.35092025932131, 8.931833574963319), (69.09949406429462, 8.920302312799691), (70.8832528102493, 9.002565794535865), (70.55682219334595, 8.31053776164921), (70.1579394328198, 8.961589845776867), (68.33147117115129, 7.249120589574544), (58.231690658535655, 10.269533668293409), (58.62131255898078, 10.569607982411227), (57.992320554618416, 9.804589924123503), (57.71788077723731, 9.05797963153596), (59.847192244385646, 10.937140880951276), (57.07010923277032, 10.034289469653988), (55.94137057981534, 10.026237822366648), (58.3571542007376, 9.743000411117858), (57.914456806099174, 11.874070814404188), (58.769894710593064, 10.158310024027612), (58.49127716933123, 7.958464798359074), (59.66658691543582, 9.40433352870409), (59.15173142321177, 9.652748919616457), (58.1591102692489, 9.935801052371804), (57.94249705830663, 9.554168758141131), (59.39666404445754, 8.465461552012222), (58.367435457349295, 10.903237092489064), (58.398618067645074, 9.785515893478596), (57.26656406808599, 8.967341814280621), (57.12973159080884, 7.893494942723293), (56.24933805391516, 11.461853946653951), (59.22029389870257, 10.102017189245357), (56.671878636939546, 11.306746500518019), (58.87755144534524, 9.835204634134314), (58.06923878069856, 11.05106354589652), (58.068144252538026, 8.61465097911396), (58.752104228702194, 9.791131104899618), (57.048440095815856, 10.129921676659514), (60.34030914953904, 10.954169710953694), (57.68253296241034, 10.094255088681797), (56.5865864866808, 11.814654511691812), (58.36654513731445, 10.951734893755903), (57.28404144047179, 10.185441904003612), (58.691485633431824, 9.414474919186858), (57.56543822783752, 8.113696415462597), (58.362668211069256, 10.626732951256342), (59.32101147801161, 10.529244860367209), (58.320873989232396, 10.394474561715759), (59.11206825966076, 11.97253517206438), (58.01176062706449, 8.615596885588685), (58.81245199725154, 10.784532758338662), (58.29718129476868, 10.540257621062878), (57.93769812742257, 10.054596853030908), (59.82238641754927, 10.059631486312213), (57.770500393736356, 10.273514793279361), (57.71376737666156, 10.81739096091058), (58.054603049213334, 9.718511862753914), (58.442133099856385, 9.71480211912985), (59.9564453737331, 10.474387081195884), (56.16193355684939, 8.324877160663931)]\n",
      "Intercept: [0.75349519]  Coefficients: [[-0.35137778  2.36847399]]\n"
     ]
    },
    {
     "name": "stderr",
     "output_type": "stream",
     "text": [
      "/Library/Frameworks/Python.framework/Versions/3.7/lib/python3.7/site-packages/sklearn/linear_model/logistic.py:432: FutureWarning: Default solver will be changed to 'lbfgs' in 0.22. Specify a solver to silence this warning.\n",
      "  FutureWarning)\n"
     ]
    }
   ],
   "source": [
    "model = linear_model.LogisticRegression()\n",
    "model.fit(plant_inputs, classes)\n",
    "print('Intercept: {0}  Coefficients: {1}'.format(model.intercept_, model.coef_))"
   ]
  },
  {
   "cell_type": "markdown",
   "metadata": {},
   "source": [
    "## Prediction\n",
    "\n",
    "Now we can make some predictions using the trained model. Note that we are generating the new data exactly the same way that we generated the training data above."
   ]
  },
  {
   "cell_type": "code",
   "execution_count": 14,
   "metadata": {},
   "outputs": [
    {
     "name": "stdout",
     "output_type": "stream",
     "text": [
      "Plant A: 70.17320182571817 6.085554396970032\n",
      "Plant B: 57.73548706587579 10.703336031017077\n",
      "Class predictions: [0 1]\n",
      "Probabilities:\n",
      "[[0.99992443 0.00007557]\n",
      " [0.00296739 0.99703261]]\n"
     ]
    }
   ],
   "source": [
    "# Generate some new random values for two plants, one of each class\n",
    "new_a_height = numpy.random.normal(loc=PLANT_A_AVG_HEIGHT)\n",
    "new_a_width = numpy.random.normal(loc=PLANT_A_AVG_WIDTH)\n",
    "new_b_height = numpy.random.normal(loc=PLANT_B_AVG_HEIGHT)\n",
    "new_b_width = numpy.random.normal(loc=PLANT_B_AVG_WIDTH)\n",
    "\n",
    "# Pull the values into a matrix, because that is what the predict function wants\n",
    "inputs = [[new_a_height, new_a_width], [new_b_height, new_b_width]]\n",
    "\n",
    "# Print out the outputs for these new inputs\n",
    "print('Plant A: {0} {1}'.format(new_a_height, new_a_width))\n",
    "print('Plant B: {0} {1}'.format(new_b_height, new_b_width))\n",
    "print('Class predictions: {0}'.format(model.predict(inputs))) # guess which class\n",
    "print('Probabilities:\\n{0}'.format(model.predict_proba(inputs))) # give probability of each class"
   ]
  },
  {
   "cell_type": "markdown",
   "metadata": {},
   "source": [
    "# Exercise Option (Standard Difficulty)\n",
    "\n",
    "Answer the following questions. You can also use the graph below, if seeing the data visually helps you understand the data.\n",
    "1. What should we be expecting as the output for class predictions in the above cell? If the model is not giving the expected output, what are some of the reasons it might not be?\n",
    "1. How do the probabilities output by the above cell relate to the class predictions? Why do you think the model might be more or less confident in its predictions?\n",
    "1. If you change the averages in the data generation code (like PLANT_A_AVG_HEIGHT) and re-run the code, how do the predictions change, and why?\n",
    "1. Looking at the intercept and coefficient output further above, if a coefficient is negative, what has the model learned about this feature? In other words, if you took a datapoint and you increased the value of a feature that has a negative coefficient, what would you expect to happen to the probabilities the model gives this datapoint?"
   ]
  },
  {
   "cell_type": "markdown",
   "metadata": {},
   "source": [
    "1. We should be expecting 0 and 1. If we don't get the expected output, the model might be underfitting. \n",
    "2. For making predictions, the model will select the one with the highest probability. All plants have traits that slightly match both models.\n",
    "3. If you make the averages closer, the probability will decrease, while if you make the averages further apart, the the probability will increase.\n",
    "4. If a coefficient is negative, that means Class 1 will be smaller in that feature than Class 0."
   ]
  },
  {
   "cell_type": "markdown",
   "metadata": {},
   "source": [
    "# Exercise Option (Advanced)\n",
    "\n",
    "The plot above is only showing the data, and not anything about what the model learned. Come up with some ideas for how to show the model fit and implement one of them in code. Remember, we are here to help if you are not sure how to write the code for your ideas!"
   ]
  },
  {
   "cell_type": "code",
   "execution_count": 90,
   "metadata": {},
   "outputs": [
    {
     "name": "stdout",
     "output_type": "stream",
     "text": [
      "0.94\n"
     ]
    }
   ],
   "source": [
    "# from scipy.special import expit\n",
    "\n",
    "# figModel = matplotlib.pyplot.figure()\n",
    "# figModel.suptitle('Plant Data Set')\n",
    "# matplotlib.pyplot.xlabel('Height')\n",
    "# matplotlib.pyplot.ylabel('Width')\n",
    "\n",
    "# # put the generated points on the graph\n",
    "# a_scatter = matplotlib.pyplot.scatter(plant_a_heights, plant_a_widths, c=\"red\", marker=\"o\", label='plant a')\n",
    "# b_scatter = matplotlib.pyplot.scatter(plant_b_heights, plant_b_widths, c=\"blue\", marker=\"^\", label='plant b')\n",
    "\n",
    "# # add a legend to explain which points are which\n",
    "# matplotlib.pyplot.legend(handles=[a_scatter, b_scatter])\n",
    "# all_heights = plant_a_heights+plant_b_heights\n",
    "# all_widths = plant_a_widths + plant_b_widths\n",
    "# plant_min_height = math.floor(min(all_heights))\n",
    "# plant_max_height = math.ceil(max(all_heights))\n",
    "# plant_min_width = math.floor(min(all_widths))\n",
    "# plant_max_width = math.ceil(max(all_widths))\n",
    "# Xheight = numpy.linspace(plant_min_height, plant_max_height)\n",
    "# Xwidth = numpy.linspace(plant_min_width, plant_max_width)\n",
    "# X = numpy.array([Xheight, Xwidth])\n",
    "# X_transpose = X.transpose()\n",
    "# X2 = list(zip(X_transpose))\n",
    "# print(X2)\n",
    "# coef_tranpose = model.coef_.transpose()\n",
    "# print(X2 * model.coef_ + model.intercept_)\n",
    "# Y = model.predict(X2)\n",
    "# print(Y)\n",
    "# matplotlib.pyplot.plot(X, Y)\n",
    "\n",
    "# # show the graph\n",
    "# matplotlib.pyplot.show()\n",
    "print(model.score(plant_inputs, classes))"
   ]
  },
  {
   "cell_type": "markdown",
   "metadata": {},
   "source": [
    "# Exercise Option (Advanced)\n",
    "\n",
    "If you have more than two classes, you can use multinomial logistic regression or the one vs. rest technique, where you use a binomial logistic regression for each class that you have and decide if it is or is not in that class. Try expanding the program with a third type and implementing your own one vs. rest models. To test if this is working, compare your output to running your expanded dataset through scikit-learn, which will automatically do one vs. rest if there are more than two classes."
   ]
  },
  {
   "cell_type": "code",
   "execution_count": 162,
   "metadata": {},
   "outputs": [
    {
     "name": "stdout",
     "output_type": "stream",
     "text": [
      "[[80  9]]\n",
      "0.33983875171791444\n",
      "0.0492224558415585\n",
      "0.5138366743989241\n",
      "3\n"
     ]
    },
    {
     "name": "stderr",
     "output_type": "stream",
     "text": [
      "/Library/Frameworks/Python.framework/Versions/3.7/lib/python3.7/site-packages/sklearn/linear_model/logistic.py:432: FutureWarning: Default solver will be changed to 'lbfgs' in 0.22. Specify a solver to silence this warning.\n",
      "  FutureWarning)\n",
      "/Library/Frameworks/Python.framework/Versions/3.7/lib/python3.7/site-packages/sklearn/linear_model/logistic.py:432: FutureWarning: Default solver will be changed to 'lbfgs' in 0.22. Specify a solver to silence this warning.\n",
      "  FutureWarning)\n",
      "/Library/Frameworks/Python.framework/Versions/3.7/lib/python3.7/site-packages/sklearn/linear_model/logistic.py:432: FutureWarning: Default solver will be changed to 'lbfgs' in 0.22. Specify a solver to silence this warning.\n",
      "  FutureWarning)\n"
     ]
    },
    {
     "data": {
      "text/plain": [
       "array([[0.00167359, 0.        , 0.99832641]])"
      ]
     },
     "execution_count": 162,
     "metadata": {},
     "output_type": "execute_result"
    }
   ],
   "source": [
    "PLANT_C_AVG_HEIGHT = 80.0\n",
    "PLANT_C_AVG_WIDTH = 9.0\n",
    "plant_c_heights = numpy.random.normal(loc=PLANT_C_AVG_HEIGHT, size=NUM_INPUTS)\n",
    "plant_c_widths = numpy.random.normal(loc=PLANT_C_AVG_WIDTH, size=NUM_INPUTS)\n",
    "\n",
    "plant_inputs_extra = list(zip(numpy.append((plant_a_heights, plant_b_heights), plant_c_heights),\n",
    "                        numpy.append((plant_a_widths, plant_b_widths), plant_c_widths)))\n",
    "#print(plant_inputs_extra)\n",
    "classes_extra = [0]*(NUM_INPUTS*2) + [1]*NUM_INPUTS\n",
    "test_input = numpy.array((80,9)).reshape(1,-1)\n",
    "def Triple_Logistic(a_heights, a_widths, b_heights, b_widths, c_heights, c_widths):\n",
    "    inputs = list(zip(numpy.append((a_heights, a_heights), c_heights),\n",
    "                        numpy.append((a_widths, b_widths), c_widths)))\n",
    "    classes_1 = [1]*NUM_INPUTS + [0]*NUM_INPUTS + [0]*NUM_INPUTS \n",
    "    classes_2 = [0]*NUM_INPUTS + [1]*NUM_INPUTS + [0]*NUM_INPUTS \n",
    "    classes_3 = [0]*NUM_INPUTS + [0]*NUM_INPUTS + [1]*NUM_INPUTS \n",
    "    model1 = linear_model.LogisticRegression()\n",
    "    model1.fit(inputs, classes_1)\n",
    "    model2 = linear_model.LogisticRegression()\n",
    "    model2.fit(inputs, classes_2)\n",
    "    model3 = linear_model.LogisticRegression()\n",
    "    model3.fit(inputs, classes_3)\n",
    "    print(test_input)\n",
    "    def Triple_Predict(plant_input, model1, model2, model3):\n",
    "        prob1 = model1.predict_proba(plant_input)[0][1]\n",
    "        prob2 = model2.predict_proba(plant_input)[0][1]\n",
    "        prob3 = model3.predict_proba(plant_input)[0][1]\n",
    "        print(prob1)\n",
    "        print(prob2)\n",
    "        print(prob3)\n",
    "        if prob1 >= prob2 and prob1 >= prob3:\n",
    "            return 1\n",
    "        elif prob2 >= prob1 and prob2 >= prob3:\n",
    "            return 2\n",
    "        return 3\n",
    "    \n",
    "    print(Triple_Predict(test_input, model1, model2, model3))\n",
    "Triple_Logistic(plant_a_heights, plant_a_widths, plant_b_heights, plant_b_widths, plant_c_heights, plant_c_widths)\n",
    "model_super = linear_model.LogisticRegression(multi_class='multinomial', solver ='lbfgs')\n",
    "classes_4 = [0]*NUM_INPUTS + [1]*NUM_INPUTS + [2]*NUM_INPUTS \n",
    "model_super.fit(plant_inputs_extra, classes_4)\n",
    "model_super.predict_proba(test_input)"
   ]
  },
  {
   "cell_type": "code",
   "execution_count": null,
   "metadata": {},
   "outputs": [],
   "source": []
  }
 ],
 "metadata": {
  "kernelspec": {
   "display_name": "Python 3",
   "language": "python",
   "name": "python3"
  },
  "language_info": {
   "codemirror_mode": {
    "name": "ipython",
    "version": 3
   },
   "file_extension": ".py",
   "mimetype": "text/x-python",
   "name": "python",
   "nbconvert_exporter": "python",
   "pygments_lexer": "ipython3",
   "version": "3.7.4"
  }
 },
 "nbformat": 4,
 "nbformat_minor": 2
}
