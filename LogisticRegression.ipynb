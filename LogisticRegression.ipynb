{
 "cells": [
  {
   "cell_type": "markdown",
   "metadata": {},
   "source": [
    "# Logistic Regression with Synthetic Data\n",
    "\n",
    "For more explanation of logistic regression, see\n",
    "1. [Our course notes](https://jennselby.github.io/MachineLearningCourseNotes/#binomial-logistic-regression)\n",
    "1. [This scikit-learn explanation](http://scikit-learn.org/stable/modules/linear_model.html#logistic-regression)\n",
    "1. [The full scikit-learn documentation of the LogisticRegression model class](http://scikit-learn.org/stable/modules/generated/sklearn.linear_model.LogisticRegression.html)"
   ]
  },
  {
   "cell_type": "code",
   "execution_count": 2,
   "metadata": {},
   "outputs": [],
   "source": [
    "import numpy.random # for generating our dataset\n",
    "import math\n",
    "from sklearn import linear_model # for fitting our model\n",
    "\n",
    "# force numpy not to use scientific notation, to make it easier to read the numbers the program prints out\n",
    "numpy.set_printoptions(suppress=True)\n",
    "\n",
    "# to display graphs in this notebook\n",
    "%matplotlib inline\n",
    "import matplotlib.pyplot"
   ]
  },
  {
   "cell_type": "markdown",
   "metadata": {},
   "source": [
    "## Data Generation\n",
    "\n",
    "As we did in the [linear regression notebook](https://nbviewer.jupyter.org/github/jennselby/MachineLearningCourseNotes/blob/master/assets/ipynb/LinearRegression.ipynb), we will be generating some fake data.\n",
    "\n",
    "In this fake dataset, we have two types of plants.\n",
    "* Plant A tends to be taller (average 60cm) and thinner (average 8cm).\n",
    "* Plant B tends to be shorter (average 58cm) and wider (average 10cm).\n",
    "* The heights and diameters of both plants are normally distributed (they follow a bell curve).\n",
    "\n",
    "* Class 0 will represent Plant A and Class 1 will represent Plant B"
   ]
  },
  {
   "cell_type": "code",
   "execution_count": 3,
   "metadata": {},
   "outputs": [],
   "source": [
    "NUM_INPUTS = 50 # inputs per class\n",
    "PLANT_A_AVG_HEIGHT = 70.0\n",
    "PLANT_A_AVG_WIDTH = 8.0\n",
    "PLANT_B_AVG_HEIGHT = 58.0\n",
    "PLANT_B_AVG_WIDTH = 10.0\n",
    "\n",
    "# Pick numbers randomly with a normal distribution centered around the averages\n",
    "\n",
    "plant_a_heights = numpy.random.normal(loc=PLANT_A_AVG_HEIGHT, size=NUM_INPUTS)\n",
    "plant_a_widths = numpy.random.normal(loc=PLANT_A_AVG_WIDTH, size=NUM_INPUTS)\n",
    "\n",
    "plant_b_heights = numpy.random.normal(loc=PLANT_B_AVG_HEIGHT, size=NUM_INPUTS)\n",
    "plant_b_widths = numpy.random.normal(loc=PLANT_B_AVG_WIDTH, size=NUM_INPUTS)\n",
    "\n",
    "# this creates a 2-dimensional matrix, with heights in the first column and widths in the second\n",
    "# the first half of rows are all plants of type a and the second half are type b\n",
    "plant_inputs = list(zip(numpy.append(plant_a_heights, plant_b_heights),\n",
    "                        numpy.append(plant_a_widths, plant_b_widths)))\n",
    "\n",
    "# this is a list where the first half are 0s (representing plants of type a) and the second half are 1s (type b)\n",
    "classes = [0]*NUM_INPUTS + [1]*NUM_INPUTS\n"
   ]
  },
  {
   "cell_type": "markdown",
   "metadata": {},
   "source": [
    "## Plotting\n",
    "\n",
    "Let's visualize our dataset, so that we can better understand what it looks like."
   ]
  },
  {
   "cell_type": "code",
   "execution_count": 4,
   "metadata": {},
   "outputs": [
    {
     "data": {
      "image/png": "[encoded data removed]",
      "text/plain": [
       "<Figure size 432x288 with 1 Axes>"
      ]
     },
     "metadata": {
      "needs_background": "light"
     },
     "output_type": "display_data"
    }
   ],
   "source": [
    "# create a figure and label it\n",
    "fig = matplotlib.pyplot.figure()\n",
    "fig.suptitle('Plant Data Set')\n",
    "matplotlib.pyplot.xlabel('Height')\n",
    "matplotlib.pyplot.ylabel('Width')\n",
    "\n",
    "# put the generated points on the graph\n",
    "a_scatter = matplotlib.pyplot.scatter(plant_a_heights, plant_a_widths, c=\"red\", marker=\"o\", label='plant a')\n",
    "b_scatter = matplotlib.pyplot.scatter(plant_b_heights, plant_b_widths, c=\"blue\", marker=\"^\", label='plant b')\n",
    "\n",
    "# add a legend to explain which points are which\n",
    "matplotlib.pyplot.legend(handles=[a_scatter, b_scatter])\n",
    "\n",
    "# show the graph\n",
    "matplotlib.pyplot.show()"
   ]
  },
  {
   "cell_type": "markdown",
   "metadata": {},
   "source": [
    "## Model Training\n",
    "\n",
    "Next, we want to fit our logistic regression model to our dataset."
   ]
  },
  {
   "cell_type": "code",
   "execution_count": 5,
   "metadata": {},
   "outputs": [
    {
     "name": "stdout",
     "output_type": "stream",
     "text": [
      "Intercept: [0.65499435]  Coefficients: [[-0.36718405  2.50705226]]\n"
     ]
    },
    {
     "name": "stderr",
     "output_type": "stream",
     "text": [
      "/Library/Frameworks/Python.framework/Versions/3.7/lib/python3.7/site-packages/sklearn/linear_model/logistic.py:432: FutureWarning: Default solver will be changed to 'lbfgs' in 0.22. Specify a solver to silence this warning.\n",
      "  FutureWarning)\n"
     ]
    }
   ],
   "source": [
    "model = linear_model.LogisticRegression()\n",
    "model.fit(plant_inputs, classes)\n",
    "print('Intercept: {0}  Coefficients: {1}'.format(model.intercept_, model.coef_))"
   ]
  },
  {
   "cell_type": "markdown",
   "metadata": {},
   "source": [
    "## Prediction\n",
    "\n",
    "Now we can make some predictions using the trained model. Note that we are generating the new data exactly the same way that we generated the training data above."
   ]
  },
  {
   "cell_type": "code",
   "execution_count": 6,
   "metadata": {},
   "outputs": [
    {
     "name": "stdout",
     "output_type": "stream",
     "text": [
      "Plant A: 70.31008144920037 9.211563722340285\n",
      "Plant B: 58.366009085879966 10.312983277185445\n",
      "Class predictions: [0 1]\n",
      "Probabilities:\n",
      "[[0.88774134 0.11225866]\n",
      " [0.0061869  0.9938131 ]]\n"
     ]
    }
   ],
   "source": [
    "# Generate some new random values for two plants, one of each class\n",
    "new_a_height = numpy.random.normal(loc=PLANT_A_AVG_HEIGHT)\n",
    "new_a_width = numpy.random.normal(loc=PLANT_A_AVG_WIDTH)\n",
    "new_b_height = numpy.random.normal(loc=PLANT_B_AVG_HEIGHT)\n",
    "new_b_width = numpy.random.normal(loc=PLANT_B_AVG_WIDTH)\n",
    "\n",
    "# Pull the values into a matrix, because that is what the predict function wants\n",
    "inputs = [[new_a_height, new_a_width], [new_b_height, new_b_width]]\n",
    "\n",
    "# Print out the outputs for these new inputs\n",
    "print('Plant A: {0} {1}'.format(new_a_height, new_a_width))\n",
    "print('Plant B: {0} {1}'.format(new_b_height, new_b_width))\n",
    "print('Class predictions: {0}'.format(model.predict(inputs))) # guess which class\n",
    "print('Probabilities:\\n{0}'.format(model.predict_proba(inputs))) # give probability of each class"
   ]
  },
  {
   "cell_type": "markdown",
   "metadata": {},
   "source": [
    "# Exercise Option (Standard Difficulty)\n",
    "\n",
    "Answer the following questions. You can also use the graph below, if seeing the data visually helps you understand the data.\n",
    "1. What should we be expecting as the output for class predictions in the above cell? If the model is not giving the expected output, what are some of the reasons it might not be?\n",
    "1. How do the probabilities output by the above cell relate to the class predictions? Why do you think the model might be more or less confident in its predictions?\n",
    "1. If you change the averages in the data generation code (like PLANT_A_AVG_HEIGHT) and re-run the code, how do the predictions change, and why?\n",
    "1. Looking at the intercept and coefficient output further above, if a coefficient is negative, what has the model learned about this feature? In other words, if you took a datapoint and you increased the value of a feature that has a negative coefficient, what would you expect to happen to the probabilities the model gives this datapoint?"
   ]
  },
  {
   "cell_type": "markdown",
   "metadata": {},
   "source": [
    "1. We should be expecting 0 and 1. If we don't get the expected output, the model might be underfitting. If we don't get 0s or 1s, something terribly wrong has occured.\n",
    "2. For making predictions, the model will select the one with the highest probability. All plants have traits that slightly match both models.\n",
    "3. If you make the averages closer, the probability will decrease, while if you make the averages further apart, the the probability will increase. This is because by making the averages closer, a random deviation in Plant A has a higher chance of looking like Plant B.\n",
    "4. If a coefficient is negative, that means Class 1 will be smaller in that feature than Class 0."
   ]
  },
  {
   "cell_type": "markdown",
   "metadata": {},
   "source": [
    "# Exercise Option (Advanced)\n",
    "\n",
    "The plot above is only showing the data, and not anything about what the model learned. Come up with some ideas for how to show the model fit and implement one of them in code. Remember, we are here to help if you are not sure how to write the code for your ideas!"
   ]
  },
  {
   "cell_type": "code",
   "execution_count": 7,
   "metadata": {},
   "outputs": [
    {
     "name": "stdout",
     "output_type": "stream",
     "text": [
      "0.97\n"
     ]
    }
   ],
   "source": [
    "# from scipy.special import expit\n",
    "\n",
    "# figModel = matplotlib.pyplot.figure()\n",
    "# figModel.suptitle('Plant Data Set')\n",
    "# matplotlib.pyplot.xlabel('Height')\n",
    "# matplotlib.pyplot.ylabel('Width')\n",
    "\n",
    "# # put the generated points on the graph\n",
    "# a_scatter = matplotlib.pyplot.scatter(plant_a_heights, plant_a_widths, c=\"red\", marker=\"o\", label='plant a')\n",
    "# b_scatter = matplotlib.pyplot.scatter(plant_b_heights, plant_b_widths, c=\"blue\", marker=\"^\", label='plant b')\n",
    "\n",
    "# # add a legend to explain which points are which\n",
    "# matplotlib.pyplot.legend(handles=[a_scatter, b_scatter])\n",
    "# all_heights = plant_a_heights+plant_b_heights\n",
    "# all_widths = plant_a_widths + plant_b_widths\n",
    "# plant_min_height = math.floor(min(all_heights))\n",
    "# plant_max_height = math.ceil(max(all_heights))\n",
    "# plant_min_width = math.floor(min(all_widths))\n",
    "# plant_max_width = math.ceil(max(all_widths))\n",
    "# Xheight = numpy.linspace(plant_min_height, plant_max_height)\n",
    "# Xwidth = numpy.linspace(plant_min_width, plant_max_width)\n",
    "# X = numpy.array([Xheight, Xwidth])\n",
    "# X_transpose = X.transpose()\n",
    "# X2 = list(zip(X_transpose))\n",
    "# print(X2)\n",
    "# coef_tranpose = model.coef_.transpose()\n",
    "# print(X2 * model.coef_ + model.intercept_)\n",
    "# Y = model.predict(X2)\n",
    "# print(Y)\n",
    "# matplotlib.pyplot.plot(X, Y)\n",
    "\n",
    "# # show the graph\n",
    "# matplotlib.pyplot.show()\n",
    "print(model.score(plant_inputs, classes))\n",
    "#I couldn't figure out how to get a graph to work.\n",
    "#I think the best idea is to have the x-axis be height, have the y-axis be width, and then based on class A,\n",
    "#if a point has a probability close to 1, make the point pure white, and vis-versa with black.\n",
    "#There would be a gray patch dividing white and black."
   ]
  },
  {
   "cell_type": "markdown",
   "metadata": {},
   "source": [
    "# Exercise Option (Advanced)\n",
    "\n",
    "If you have more than two classes, you can use multinomial logistic regression or the one vs. rest technique, where you use a binomial logistic regression for each class that you have and decide if it is or is not in that class. Try expanding the program with a third type and implementing your own one vs. rest models. To test if this is working, compare your output to running your expanded dataset through scikit-learn, which will automatically do one vs. rest if there are more than two classes."
   ]
  },
  {
   "cell_type": "code",
   "execution_count": 8,
   "metadata": {},
   "outputs": [
    {
     "name": "stdout",
     "output_type": "stream",
     "text": [
      "[[80  9]]\n",
      "0.337589131614279\n",
      "0.03924582329694945\n",
      "0.535190085970151\n",
      "3\n",
      "[[0.00117305 0.         0.99882695]]\n"
     ]
    },
    {
     "name": "stderr",
     "output_type": "stream",
     "text": [
      "/Library/Frameworks/Python.framework/Versions/3.7/lib/python3.7/site-packages/sklearn/linear_model/logistic.py:432: FutureWarning: Default solver will be changed to 'lbfgs' in 0.22. Specify a solver to silence this warning.\n",
      "  FutureWarning)\n",
      "/Library/Frameworks/Python.framework/Versions/3.7/lib/python3.7/site-packages/sklearn/linear_model/logistic.py:432: FutureWarning: Default solver will be changed to 'lbfgs' in 0.22. Specify a solver to silence this warning.\n",
      "  FutureWarning)\n",
      "/Library/Frameworks/Python.framework/Versions/3.7/lib/python3.7/site-packages/sklearn/linear_model/logistic.py:432: FutureWarning: Default solver will be changed to 'lbfgs' in 0.22. Specify a solver to silence this warning.\n",
      "  FutureWarning)\n",
      "/Library/Frameworks/Python.framework/Versions/3.7/lib/python3.7/site-packages/sklearn/linear_model/logistic.py:947: ConvergenceWarning: lbfgs failed to converge. Increase the number of iterations.\n",
      "  \"of iterations.\", ConvergenceWarning)\n"
     ]
    }
   ],
   "source": [
    "PLANT_C_AVG_HEIGHT = 80.0\n",
    "PLANT_C_AVG_WIDTH = 9.0\n",
    "plant_c_heights = numpy.random.normal(loc=PLANT_C_AVG_HEIGHT, size=NUM_INPUTS)\n",
    "plant_c_widths = numpy.random.normal(loc=PLANT_C_AVG_WIDTH, size=NUM_INPUTS)\n",
    "\n",
    "plant_inputs_extra = list(zip(numpy.append((plant_a_heights, plant_b_heights), plant_c_heights),\n",
    "                        numpy.append((plant_a_widths, plant_b_widths), plant_c_widths)))\n",
    "#print(plant_inputs_extra)\n",
    "classes_extra = [0]*(NUM_INPUTS*2) + [1]*NUM_INPUTS\n",
    "test_input = numpy.array((80,9)).reshape(1,-1)\n",
    "print(test_input)\n",
    "def Triple_Logistic(a_heights, a_widths, b_heights, b_widths, c_heights, c_widths):\n",
    "    inputs = list(zip(numpy.append((a_heights, a_heights), c_heights),\n",
    "                        numpy.append((a_widths, b_widths), c_widths)))\n",
    "    classes_1 = [1]*NUM_INPUTS + [0]*NUM_INPUTS + [0]*NUM_INPUTS \n",
    "    classes_2 = [0]*NUM_INPUTS + [1]*NUM_INPUTS + [0]*NUM_INPUTS \n",
    "    classes_3 = [0]*NUM_INPUTS + [0]*NUM_INPUTS + [1]*NUM_INPUTS \n",
    "    model1 = linear_model.LogisticRegression()\n",
    "    model1.fit(inputs, classes_1)\n",
    "    model2 = linear_model.LogisticRegression()\n",
    "    model2.fit(inputs, classes_2)\n",
    "    model3 = linear_model.LogisticRegression()\n",
    "    model3.fit(inputs, classes_3)\n",
    "    def Triple_Predict(plant_input, model1, model2, model3):\n",
    "        prob1 = model1.predict_proba(plant_input)[0][1]\n",
    "        prob2 = model2.predict_proba(plant_input)[0][1]\n",
    "        prob3 = model3.predict_proba(plant_input)[0][1]\n",
    "        print(prob1)\n",
    "        print(prob2)\n",
    "        print(prob3)\n",
    "        if prob1 >= prob2 and prob1 >= prob3:\n",
    "            return 1\n",
    "        elif prob2 >= prob1 and prob2 >= prob3:\n",
    "            return 2\n",
    "        return 3\n",
    "    \n",
    "    print(Triple_Predict(test_input, model1, model2, model3))\n",
    "Triple_Logistic(plant_a_heights, plant_a_widths, plant_b_heights, plant_b_widths, plant_c_heights, plant_c_widths)\n",
    "model_super = linear_model.LogisticRegression(multi_class='multinomial', solver ='lbfgs')\n",
    "classes_4 = [0]*NUM_INPUTS + [1]*NUM_INPUTS + [2]*NUM_INPUTS \n",
    "model_super.fit(plant_inputs_extra, classes_4)\n",
    "print(model_super.predict_proba(test_input))"
   ]
  },
  {
   "cell_type": "code",
   "execution_count": null,
   "metadata": {},
   "outputs": [],
   "source": []
  }
 ],
 "metadata": {
  "kernelspec": {
   "display_name": "Python 3",
   "language": "python",
   "name": "python3"
  },
  "language_info": {
   "codemirror_mode": {
    "name": "ipython",
    "version": 3
   },
   "file_extension": ".py",
   "mimetype": "text/x-python",
   "name": "python",
   "nbconvert_exporter": "python",
   "pygments_lexer": "ipython3",
   "version": "3.7.4"
  }
 },
 "nbformat": 4,
 "nbformat_minor": 2
}
